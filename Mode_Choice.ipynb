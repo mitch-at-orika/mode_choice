{
 "cells": [
  {
   "cell_type": "code",
   "execution_count": null,
   "source": [
    "import pandas as pd"
   ],
   "outputs": [],
   "metadata": {}
  },
  {
   "cell_type": "code",
   "execution_count": null,
   "source": [
    "import panel as pn"
   ],
   "outputs": [],
   "metadata": {}
  },
  {
   "cell_type": "code",
   "execution_count": null,
   "source": [
    "from matplotlib.figure import Figure\r\n",
    "from matplotlib.backends.backend_agg import FigureCanvas"
   ],
   "outputs": [],
   "metadata": {}
  },
  {
   "cell_type": "code",
   "execution_count": null,
   "source": [
    "import json"
   ],
   "outputs": [],
   "metadata": {}
  },
  {
   "cell_type": "code",
   "execution_count": null,
   "source": [
    "from scipy.special import softmax"
   ],
   "outputs": [],
   "metadata": {}
  },
  {
   "cell_type": "code",
   "execution_count": null,
   "source": [
    "import seaborn as sns"
   ],
   "outputs": [],
   "metadata": {}
  },
  {
   "cell_type": "code",
   "execution_count": null,
   "source": [
    "%matplotlib inline"
   ],
   "outputs": [],
   "metadata": {}
  },
  {
   "cell_type": "code",
   "execution_count": null,
   "source": [
    "pn.extension()"
   ],
   "outputs": [],
   "metadata": {
    "tags": []
   }
  },
  {
   "cell_type": "code",
   "execution_count": null,
   "source": [
    "mcp = pd.DataFrame(json.loads('{\"Purp\":{\"0\":\"HBWW, HBWB\",\"1\":\"HBWW, HBWB\",\"2\":\"HBWW, HBWB\",\"3\":\"HBWW, HBWB\",\"4\":\"HBWW, HBWB\",\"5\":\"HBWW, HBWB\",\"6\":\"HBWW, HBWB\",\"7\":\"HBWW, HBWB\",\"8\":\"HBWW, HBWB\",\"9\":\"HBWW, HBWB\",\"10\":\"HBWW, HBWB\",\"11\":\"HBWW, HBWB\",\"12\":\"HBWW, HBWB\",\"13\":\"HBWW, HBWB\",\"14\":\"HBS\",\"15\":\"HBS\",\"16\":\"HBS\",\"17\":\"HBS\",\"18\":\"HBS\",\"19\":\"HBS\",\"20\":\"HBS\",\"21\":\"HBS\",\"22\":\"HBS\",\"23\":\"HBS\",\"24\":\"HBS\",\"25\":\"HBS\",\"26\":\"HBS\",\"27\":\"HBS\",\"28\":\"NHBW\",\"29\":\"NHBW\",\"30\":\"NHBW\",\"31\":\"NHBW\",\"32\":\"NHBW\",\"33\":\"NHBW\",\"34\":\"NHBW\",\"35\":\"NHBW\",\"36\":\"NHBW\",\"37\":\"NHBW\",\"38\":\"NHBW\",\"39\":\"NHBW\",\"40\":\"NHBW\",\"41\":\"NHBW\",\"42\":\"HBEP\",\"43\":\"HBEP\",\"44\":\"HBEP\",\"45\":\"HBEP\",\"46\":\"HBEP\",\"47\":\"HBEP\",\"48\":\"HBEP\",\"49\":\"HBEP\",\"50\":\"HBEP\",\"51\":\"HBEP\",\"52\":\"HBEP\",\"53\":\"HBEP\",\"54\":\"HBEP\",\"55\":\"HBEP\",\"56\":\"HBO\",\"57\":\"HBO\",\"58\":\"HBO\",\"59\":\"HBO\",\"60\":\"HBO\",\"61\":\"HBO\",\"62\":\"HBO\",\"63\":\"HBO\",\"64\":\"HBO\",\"65\":\"HBO\",\"66\":\"HBO\",\"67\":\"HBO\",\"68\":\"HBO\",\"69\":\"HBO\",\"70\":\"HBES,T\",\"71\":\"HBES,T\",\"72\":\"HBES,T\",\"73\":\"HBES,T\",\"74\":\"HBES,T\",\"75\":\"HBES,T\",\"76\":\"HBES,T\",\"77\":\"HBES,T\",\"78\":\"HBES,T\",\"79\":\"HBES,T\",\"80\":\"HBES,T\",\"81\":\"HBES,T\",\"82\":\"HBES,T\",\"83\":\"HBES,T\",\"84\":\"NHBO,S\",\"85\":\"NHBO,S\",\"86\":\"NHBO,S\",\"87\":\"NHBO,S\",\"88\":\"NHBO,S\",\"89\":\"NHBO,S\",\"90\":\"NHBO,S\",\"91\":\"NHBO,S\",\"92\":\"NHBO,S\",\"93\":\"NHBO,S\",\"94\":\"NHBO,S\",\"95\":\"NHBO,S\",\"96\":\"NHBO,S\",\"97\":\"NHBO,S\"},\"Parameters\":{\"0\":\"Car_GC_24hr\",\"1\":\"Car_GC_24hr\",\"2\":\"PT_GC_24hr\",\"3\":\"Walk_GC\",\"4\":\"Cycle_Time\",\"5\":\"Car Captive (%)\",\"6\":\"Car Captive (%)\",\"7\":\"Car Captive (%)\",\"8\":\"Car Captive (%)\",\"9\":\"Car_Competition (%)\",\"10\":\"Constants\",\"11\":\"Constants\",\"12\":\"Constants\",\"13\":\"Constants\",\"14\":\"Car_GC_24hr\",\"15\":\"Car_GC_24hr\",\"16\":\"PT_GC_24hr\",\"17\":\"Walk_GC\",\"18\":\"Cycle_Time\",\"19\":\"Car Captive (%)\",\"20\":\"Car Captive (%)\",\"21\":\"Car Captive (%)\",\"22\":\"Car Captive (%)\",\"23\":\"Car_Competition (%)\",\"24\":\"Constants\",\"25\":\"Constants\",\"26\":\"Constants\",\"27\":\"Constants\",\"28\":\"Car_GC_24hr\",\"29\":\"Car_GC_24hr\",\"30\":\"PT_GC_24hr\",\"31\":\"Walk_GC\",\"32\":\"Cycle_Time\",\"33\":\"Car Captive (%)\",\"34\":\"Car Captive (%)\",\"35\":\"Car Captive (%)\",\"36\":\"Car Captive (%)\",\"37\":\"Car_Competition (%)\",\"38\":\"Constants\",\"39\":\"Constants\",\"40\":\"Constants\",\"41\":\"Constants\",\"42\":\"Car_GC_24hr\",\"43\":\"Car_GC_24hr\",\"44\":\"PT_GC_24hr\",\"45\":\"Walk_GC\",\"46\":\"Cycle_Time\",\"47\":\"Car Captive (%)\",\"48\":\"Car Captive (%)\",\"49\":\"Car Captive (%)\",\"50\":\"Car Captive (%)\",\"51\":\"Car_Competition (%)\",\"52\":\"Constants\",\"53\":\"Constants\",\"54\":\"Constants\",\"55\":\"Constants\",\"56\":\"Car_GC_24hr\",\"57\":\"Car_GC_24hr\",\"58\":\"PT_GC_24hr\",\"59\":\"Walk_GC\",\"60\":\"Cycle_Time\",\"61\":\"Car Captive (%)\",\"62\":\"Car Captive (%)\",\"63\":\"Car Captive (%)\",\"64\":\"Car Captive (%)\",\"65\":\"Car_Competition (%)\",\"66\":\"Constants\",\"67\":\"Constants\",\"68\":\"Constants\",\"69\":\"Constants\",\"70\":\"Car_GC_24hr\",\"71\":\"Car_GC_24hr\",\"72\":\"PT_GC_24hr\",\"73\":\"Walk_GC\",\"74\":\"Cycle_Time\",\"75\":\"Car Captive (%)\",\"76\":\"Car Captive (%)\",\"77\":\"Car Captive (%)\",\"78\":\"Car Captive (%)\",\"79\":\"Car_Competition (%)\",\"80\":\"Constants\",\"81\":\"Constants\",\"82\":\"Constants\",\"83\":\"Constants\",\"84\":\"Car_GC_24hr\",\"85\":\"Car_GC_24hr\",\"86\":\"PT_GC_24hr\",\"87\":\"Walk_GC\",\"88\":\"Cycle_Time\",\"89\":\"Car Captive (%)\",\"90\":\"Car Captive (%)\",\"91\":\"Car Captive (%)\",\"92\":\"Car Captive (%)\",\"93\":\"Car_Competition (%)\",\"94\":\"Constants\",\"95\":\"Constants\",\"96\":\"Constants\",\"97\":\"Constants\"},\"mode\":{\"0\":\"Car as Driver\",\"1\":\"Car as Passenger\",\"2\":\"Walk to PT\",\"3\":\"Walk\",\"4\":\"Cycle\",\"5\":\"Car as Passenger\",\"6\":\"Walk to PT\",\"7\":\"Walk\",\"8\":\"Cycle\",\"9\":\"Car as Passenger\",\"10\":\"Car as Passenger\",\"11\":\"Walk to PT\",\"12\":\"Walk\",\"13\":\"Cycle\",\"14\":\"Car as Driver\",\"15\":\"Car as Passenger\",\"16\":\"Walk to PT\",\"17\":\"Walk\",\"18\":\"Cycle\",\"19\":\"Car as Passenger\",\"20\":\"Walk to PT\",\"21\":\"Walk\",\"22\":\"Cycle\",\"23\":\"Car as Passenger\",\"24\":\"Car as Passenger\",\"25\":\"Walk to PT\",\"26\":\"Walk\",\"27\":\"Cycle\",\"28\":\"Car as Driver\",\"29\":\"Car as Passenger\",\"30\":\"Walk to PT\",\"31\":\"Walk\",\"32\":\"Cycle\",\"33\":\"Car as Passenger\",\"34\":\"Walk to PT\",\"35\":\"Walk\",\"36\":\"Cycle\",\"37\":\"Car as Passenger\",\"38\":\"Car as Passenger\",\"39\":\"Walk to PT\",\"40\":\"Walk\",\"41\":\"Cycle\",\"42\":\"Car as Driver\",\"43\":\"Car as Passenger\",\"44\":\"Walk to PT\",\"45\":\"Walk\",\"46\":\"Cycle\",\"47\":\"Car as Passenger\",\"48\":\"Walk to PT\",\"49\":\"Walk\",\"50\":\"Cycle\",\"51\":\"Car as Passenger\",\"52\":\"Car as Passenger\",\"53\":\"Walk to PT\",\"54\":\"Walk\",\"55\":\"Cycle\",\"56\":\"Car as Driver\",\"57\":\"Car as Passenger\",\"58\":\"Walk to PT\",\"59\":\"Walk\",\"60\":\"Cycle\",\"61\":\"Car as Passenger\",\"62\":\"Walk to PT\",\"63\":\"Walk\",\"64\":\"Cycle\",\"65\":\"Car as Passenger\",\"66\":\"Car as Passenger\",\"67\":\"Walk to PT\",\"68\":\"Walk\",\"69\":\"Cycle\",\"70\":\"Car as Driver\",\"71\":\"Car as Passenger\",\"72\":\"Walk to PT\",\"73\":\"Walk\",\"74\":\"Cycle\",\"75\":\"Car as Passenger\",\"76\":\"Walk to PT\",\"77\":\"Walk\",\"78\":\"Cycle\",\"79\":\"Car as Passenger\",\"80\":\"Car as Passenger\",\"81\":\"Walk to PT\",\"82\":\"Walk\",\"83\":\"Cycle\",\"84\":\"Car as Driver\",\"85\":\"Car as Passenger\",\"86\":\"Walk to PT\",\"87\":\"Walk\",\"88\":\"Cycle\",\"89\":\"Car as Passenger\",\"90\":\"Walk to PT\",\"91\":\"Walk\",\"92\":\"Cycle\",\"93\":\"Car as Passenger\",\"94\":\"Car as Passenger\",\"95\":\"Walk to PT\",\"96\":\"Walk\",\"97\":\"Cycle\"},\"value\":{\"0\":-0.055,\"1\":-0.055,\"2\":-0.055,\"3\":-0.055,\"4\":-0.055,\"5\":4.7,\"6\":5.7,\"7\":3.3,\"8\":3.5,\"9\":0.1,\"10\":-3.5,\"11\":-2.8,\"12\":-1.5,\"13\":-4.9,\"14\":-0.055,\"15\":-0.055,\"16\":-0.055,\"17\":-0.055,\"18\":-0.055,\"19\":4.7,\"20\":5.7,\"21\":3.3,\"22\":3.5,\"23\":0.1,\"24\":-1.9,\"25\":-2.8,\"26\":-1.5,\"27\":-5.5,\"28\":-0.055,\"29\":-0.055,\"30\":-0.055,\"31\":-0.055,\"32\":-0.055,\"33\":4.7,\"34\":5.7,\"35\":3.3,\"36\":3.5,\"37\":0.1,\"38\":-3.1,\"39\":-2.8,\"40\":-0.7,\"41\":-6.3,\"42\":-0.034,\"43\":-0.034,\"44\":-0.034,\"45\":-0.034,\"46\":-0.034,\"47\":4.7,\"48\":5.7,\"49\":3.3,\"50\":3.5,\"51\":0.1,\"52\":-2.2,\"53\":-3.7,\"54\":-1.5,\"55\":-4.9,\"56\":-0.055,\"57\":-0.055,\"58\":-0.055,\"59\":-0.055,\"60\":-0.055,\"61\":4.7,\"62\":5.7,\"63\":3.3,\"64\":3.5,\"65\":0.1,\"66\":-1.6,\"67\":-2.8,\"68\":0.0,\"69\":-4.2,\"70\":-0.009,\"71\":-0.009,\"72\":-0.009,\"73\":-0.009,\"74\":-0.009,\"75\":4.7,\"76\":5.7,\"77\":3.3,\"78\":3.5,\"79\":0.1,\"80\":-2.7,\"81\":-2.8,\"82\":-2.2,\"83\":-4.9,\"84\":-0.055,\"85\":-0.055,\"86\":-0.055,\"87\":-0.055,\"88\":-0.055,\"89\":4.7,\"90\":5.7,\"91\":3.3,\"92\":3.5,\"93\":0.1,\"94\":-1.9,\"95\":-2.8,\"96\":-0.1,\"97\":-4.9}}'))"
   ],
   "outputs": [],
   "metadata": {}
  },
  {
   "cell_type": "markdown",
   "source": [
    "# Generalised Cost Working\r\n",
    "•\tCar_GC = (Car_tCur + Car_Dist * (VOC/(VOT*VEHOCC))) * 0.8 + Park_Cost / (2*VOT*VEHOCC) \r\n",
    "\r\n",
    "    o\tVOC = 15.6 c/km\r\n",
    "\r\n",
    "    o\tVOT = 34 c/min (value of time for other trips)\r\n",
    "\r\n",
    "    o\tVEHOCC = 1.65\r\n",
    "\r\n",
    "•\tPT_GC = (PJT + PT_Fare / VOT) * 0.9 \r\n",
    "\r\n",
    "    o\tPJT = IVT + 1.53 * (Access_Time + Egress_Time) + 1.43 * Wait_Time + 13.6 * No_Transfers + BPen \r\n",
    "\r\n",
    "        \tWait_Time = Origin_Wait_Time + Transfer_Wait_Time\r\n",
    "\r\n",
    "        \tNo_Transfers = Number of transfers\r\n",
    "\r\n",
    "        \tBPen = Boarding Penalty (10 sec for some buses, and 0 for other buses and all trains)\r\n",
    "\r\n",
    "    o\tVOT = 34 c/min (value of time for other trips)\r\n",
    "\r\n",
    "•\tWalk_GC = Walk_Time * 0.9 \r\n",
    "\r\n",
    "    o\tWalk_Time = skim travel time acquired by OP walk-only assignment\r\n",
    "\r\n",
    "\r\n",
    "<!-- 34 #c /min\r\n",
    ".34 #$/min\r\n",
    ".34*60 #$/hour\r\n",
    "20.40 #$/hour -->"
   ],
   "metadata": {}
  },
  {
   "cell_type": "code",
   "execution_count": null,
   "source": [],
   "outputs": [],
   "metadata": {}
  },
  {
   "cell_type": "code",
   "execution_count": null,
   "source": [
    "def get_GC(distance=10.,congestion_factor=0.6,parking_cost=5,SMEC_CarGC_Fudge = 0.8,PTTT=1.,       isin_congestion=True,fare=3,Access_egress_time=3,Headway=30,No_Transfers=1,SMEC_PTGC_Fudge = 0.9):\r\n",
    "    carTT = congestion_factor * distance # congestion factor is distance(km)/congested travel time(mins) \r\n",
    "    op_costs = distance * (15.6/(34*1.65))\r\n",
    "    #Car_GC = (Car_tCur + Car_Dist * (VOC/(VOT*VEHOCC))) * 0.8 + Park_Cost / (2*VOT*VEHOCC) \r\n",
    "    Car_GC_24hr = (SMEC_CarGC_Fudge*(carTT + op_costs)) + (parking_cost*100 /(2*34*1.65))\r\n",
    "    walkTT = distance/5*60\r\n",
    "    cycleTT = distance/20*60\r\n",
    "    if isin_congestion:\r\n",
    "        IVT = PTTT * carTT \r\n",
    "    else:\r\n",
    "        IVT = PTTT * 0.8 * distance \r\n",
    "    \r\n",
    "    PJT = IVT + (1.53 * 2*Access_egress_time) + (1.43 * (Headway/2)) + (13.6*No_Transfers)\r\n",
    "    \r\n",
    "    PT_GC_24hr = (PJT +  ((fare * 100)/ 34)) * SMEC_PTGC_Fudge\r\n",
    "    \r\n",
    "    return Car_GC_24hr,PT_GC_24hr,walkTT,cycleTT"
   ],
   "outputs": [],
   "metadata": {}
  },
  {
   "cell_type": "code",
   "execution_count": null,
   "source": [
    "#given GCs for each mode give probability of choosing mode\r\n",
    "def get_GC_plot(distance=10.,congestion_factor=0.6,parking_cost=5,SMEC_CarGC_Fudge = 0.8,PTTT=1.,       isin_congestion=True,fare=3,Access_egress_time=3,Headway=30,No_Transfers=1,SMEC_PTGC_Fudge = 0.9,Pr_Car_Competition=0.3,Pr_No_Car_Available=0.3):\r\n",
    "    Car_GC_24hr,PT_GC_24hr,walkTT,cycleTT = get_GC(distance,congestion_factor,parking_cost,SMEC_CarGC_Fudge,PTTT, isin_congestion,fare,Access_egress_time,Headway,No_Transfers,SMEC_PTGC_Fudge)\r\n",
    "    return view_fn_GC(pd.Series({'Car_GC_24hr':Car_GC_24hr,'PT_GC_24hr':PT_GC_24hr,'walkTT':walkTT,'cycleTT':cycleTT}).reset_index().rename(columns={'index':'Generalised_Cost',0:'minutes'}))"
   ],
   "outputs": [],
   "metadata": {}
  },
  {
   "cell_type": "code",
   "execution_count": null,
   "source": [
    "#given GCs for each mode give probability of choosing mode\r\n",
    "def get_probs_plot(distance=10.,congestion_factor=0.6,parking_cost=5,SMEC_CarGC_Fudge = 0.8,PTTT=1.,       isin_congestion=True,fare=3,Access_egress_time=3,Headway=30,No_Transfers=1,SMEC_PTGC_Fudge = 0.9,Pr_Car_Competition=0.3,Pr_No_Car_Available=0.3):\r\n",
    "    Car_GC_24hr,PT_GC_24hr,walkTT,cycleTT = get_GC(distance,congestion_factor,parking_cost,SMEC_CarGC_Fudge,PTTT, isin_congestion,fare,Access_egress_time,Headway,No_Transfers,SMEC_PTGC_Fudge)\r\n",
    "    out = {}\r\n",
    "    for purp, group in mcp.groupby('Purp'):\r\n",
    "        coeff_map = group.set_index(['Parameters','mode']).value\r\n",
    "        util_cd = coeff_map['Car_GC_24hr','Car as Driver'] * Car_GC_24hr\r\n",
    "        util_cp = (coeff_map['Car_GC_24hr','Car as Passenger'] * Car_GC_24hr) + coeff_map['Constants','Car as Passenger'] + (coeff_map['Car Captive (%)','Car as Passenger'] * Pr_No_Car_Available) + (coeff_map['Car_Competition (%)','Car as Passenger'] * Pr_Car_Competition)\r\n",
    "        util_wtpt = (coeff_map['PT_GC_24hr','Walk to PT'] * PT_GC_24hr) + coeff_map['Constants','Walk to PT'] + (coeff_map['Car Captive (%)','Walk to PT'] * Pr_No_Car_Available) \r\n",
    "        util_wtpt_LRT = (coeff_map['PT_GC_24hr','Walk to PT'] * PT_GC_24hr) + coeff_map['Constants','Walk to PT'] + (coeff_map['Car Captive (%)','Walk to PT'] * Pr_No_Car_Available) + (14/18)\r\n",
    "        util_wlk = (coeff_map['Walk_GC','Walk'] * walkTT) + coeff_map['Constants','Walk'] + (coeff_map['Car Captive (%)','Walk'] * Pr_No_Car_Available)\r\n",
    "        util_cy = (coeff_map['Cycle_Time','Cycle'] * cycleTT) + coeff_map['Constants','Cycle'] + (coeff_map['Car Captive (%)','Cycle'] * Pr_No_Car_Available)\r\n",
    "        #print(pd.Series([util_cd,util_cp,util_wtpt,util_wlk,util_cy]))\r\n",
    "        out[purp] = pd.Series(dict(zip(['Car_Driver','Car_Passenger','Walk_to_PT','Walk','Cycle','LRT'],\r\n",
    "                                 softmax([util_cd,util_cp,util_wtpt,util_wlk,util_cy,util_wtpt_LRT]))))\r\n",
    "    out = pd.concat(out).reset_index().rename(columns={'level_0':'purp','level_1':'mode',0:'probability'})\r\n",
    "    return view_fn(out)"
   ],
   "outputs": [],
   "metadata": {}
  },
  {
   "cell_type": "code",
   "execution_count": null,
   "source": [
    "def view_fn(probs_df):\r\n",
    "    fig = Figure(figsize=(18,12))\r\n",
    "    FigureCanvas(fig)\r\n",
    "    ax = fig.add_subplot()\r\n",
    "    ax.set_ylim([0,.9])\r\n",
    "    sns.barplot(x=\"mode\", hue=\"purp\", y=\"probability\", data=probs_df,ax=ax)\r\n",
    "    return fig"
   ],
   "outputs": [],
   "metadata": {}
  },
  {
   "cell_type": "code",
   "execution_count": null,
   "source": [
    "def view_fn_GC(GC_df):\r\n",
    "    fig = Figure(figsize=(10,16))\r\n",
    "    FigureCanvas(fig)\r\n",
    "    ax = fig.add_subplot()\r\n",
    "    ax.set_ylim([0,200])\r\n",
    "    sns.barplot(x=\"Generalised_Cost\", y=\"minutes\",color='Blue', data=GC_df,ax=ax)\r\n",
    "    return fig"
   ],
   "outputs": [],
   "metadata": {}
  },
  {
   "cell_type": "code",
   "execution_count": null,
   "source": [
    "distance = pn.widgets.FloatSlider(name='distance', start=0, end=90, step=2, value=15)\r\n",
    "congestion_factor = pn.widgets.FloatSlider(name='congestion_factor', start=0.7, end=1.5, step=0.1, value=0.7)\r\n",
    "parking_cost = pn.widgets.FloatSlider(name='parking_cost', start=0, end=15, step=0.5, value=0)\r\n",
    "PTTT=pn.widgets.FloatSlider(name='PT efficiency % of car TT', start=0.5, end=2, step=0.1, value=1)\r\n",
    "isin_congestion=pn.widgets.Checkbox(name='Is PT in Congestion?')\r\n",
    "fare= pn.widgets.FloatSlider(name='fare $', start=0, end=15, step=0.5, value=0)\r\n",
    "Pr_Car_Competition = pn.widgets.FloatSlider(name='proportion car competition', start=0, end=1, step=0.1, value=0.3)\r\n",
    "Pr_No_Car_Available = pn.widgets.FloatSlider(name='proportion no car available', start=0, end=1, step=0.1, value=0.3)\r\n",
    "Access_egress_time= pn.widgets.FloatSlider(name='access and egress time', start=0, end=45, step=1, value=5)\r\n",
    "Headway=pn.widgets.IntSlider(name='Headway', start=5, end=90, step=5, value=30)\r\n",
    "No_Transfers=pn.widgets.IntSlider(name='Number of Transfers', start=0, end=3, step=1, value=0)\r\n",
    "SMEC_CarGC_Fudge =pn.widgets.FloatSlider(name='SMEC_CarGC_Fudge', start=0.5, end=2, step=0.1, value=0.8)\r\n",
    "SMEC_PTGC_Fudge =pn.widgets.FloatSlider(name='SMEC_PTGC_Fudge', start=0.5, end=2, step=0.1, value=0.9)"
   ],
   "outputs": [],
   "metadata": {}
  },
  {
   "cell_type": "code",
   "execution_count": null,
   "source": [
    "reactive_probs = pn.bind(get_probs_plot, distance, congestion_factor,parking_cost,SMEC_CarGC_Fudge,PTTT,isin_congestion,fare,Access_egress_time, Headway, No_Transfers,SMEC_PTGC_Fudge, Pr_Car_Competition,Pr_No_Car_Available)"
   ],
   "outputs": [],
   "metadata": {}
  },
  {
   "cell_type": "code",
   "execution_count": null,
   "source": [
    "widgets   = pn.Column(\"<br>\\n# All Mode Inputs\", distance, \"<br>\\n# Private Mode Inputs\", congestion_factor,parking_cost,SMEC_CarGC_Fudge,\"<br>\\n# PT Mode Inputs\",PTTT,isin_congestion,fare,Access_egress_time, Headway, No_Transfers,SMEC_PTGC_Fudge, \"<br>\\n# Car Availability\", Pr_Car_Competition,Pr_No_Car_Available,width=500)\r\n",
    "probs = pn.Row(widgets,pn.Row(reactive_probs))\r\n",
    "probs"
   ],
   "outputs": [],
   "metadata": {}
  },
  {
   "cell_type": "code",
   "execution_count": null,
   "source": [
    "reactive_GC = pn.bind(get_GC_plot, distance, congestion_factor,parking_cost,SMEC_CarGC_Fudge,PTTT,isin_congestion,fare,Access_egress_time, Headway, No_Transfers,SMEC_PTGC_Fudge, Pr_Car_Competition,Pr_No_Car_Available)"
   ],
   "outputs": [],
   "metadata": {}
  },
  {
   "cell_type": "code",
   "execution_count": null,
   "source": [
    "widgets   = pn.Column(\"<br>\\n# All Mode Inputs\", distance, \"<br>\\n# Private Mode Inputs\", congestion_factor,parking_cost,SMEC_CarGC_Fudge,\"<br>\\n# PT Mode Inputs\",PTTT,isin_congestion,fare,Access_egress_time, Headway, No_Transfers,SMEC_PTGC_Fudge, \"<br>\\n# Car Availability\", Pr_Car_Competition,Pr_No_Car_Available,width=500)\r\n",
    "GC = pn.Row(widgets,pn.Row(reactive_GC))\r\n",
    "GC"
   ],
   "outputs": [],
   "metadata": {}
  },
  {
   "cell_type": "code",
   "execution_count": null,
   "source": [],
   "outputs": [],
   "metadata": {}
  }
 ],
 "metadata": {
  "kernelspec": {
   "display_name": "Python 3",
   "language": "python",
   "name": "python3"
  },
  "language_info": {
   "codemirror_mode": {
    "name": "ipython",
    "version": 3
   },
   "file_extension": ".py",
   "mimetype": "text/x-python",
   "name": "python",
   "nbconvert_exporter": "python",
   "pygments_lexer": "ipython3",
   "version": "3.8.10"
  }
 },
 "nbformat": 4,
 "nbformat_minor": 5
}