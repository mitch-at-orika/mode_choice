{
 "cells": [
  {
   "cell_type": "markdown",
   "id": "a2ec2ff9-820e-41c5-800f-082fb3fec08b",
   "metadata": {},
   "source": [
    "# Plot Probabilities"
   ]
  },
  {
   "cell_type": "code",
   "execution_count": 4,
   "id": "6aec814f-3c1d-4cc3-ba3b-21b34461cf07",
   "metadata": {},
   "outputs": [],
   "source": [
    "import pandas as pd\n",
    "import panel as pn\n",
    "from matplotlib.figure import Figure\n",
    "from matplotlib.backends.backend_agg import FigureCanvas\n",
    "import json\n",
    "from scipy.special import softmax\n",
    "import seaborn as sns\n",
    "%matplotlib inline\n",
    "pn.extension()\n",
    "mcp = pd.DataFrame(json.loads('{\"Purp\":{\"0\":\"HBWW,B\",\"1\":\"HBWW,B\",\"2\":\"HBWW,B\",\"3\":\"HBWW,B\",\"4\":\"HBWW,B\",\"5\":\"HBWW,B\",\"6\":\"HBWW,B\",\"7\":\"HBWW,B\",\"8\":\"HBWW,B\",\"9\":\"HBWW,B\",\"10\":\"HBWW,B\",\"11\":\"HBWW,B\",\"12\":\"HBWW,B\",\"13\":\"HBWW,B\",\"14\":\"HBS\",\"15\":\"HBS\",\"16\":\"HBS\",\"17\":\"HBS\",\"18\":\"HBS\",\"19\":\"HBS\",\"20\":\"HBS\",\"21\":\"HBS\",\"22\":\"HBS\",\"23\":\"HBS\",\"24\":\"HBS\",\"25\":\"HBS\",\"26\":\"HBS\",\"27\":\"HBS\",\"28\":\"NHBW\",\"29\":\"NHBW\",\"30\":\"NHBW\",\"31\":\"NHBW\",\"32\":\"NHBW\",\"33\":\"NHBW\",\"34\":\"NHBW\",\"35\":\"NHBW\",\"36\":\"NHBW\",\"37\":\"NHBW\",\"38\":\"NHBW\",\"39\":\"NHBW\",\"40\":\"NHBW\",\"41\":\"NHBW\",\"42\":\"HBEP\",\"43\":\"HBEP\",\"44\":\"HBEP\",\"45\":\"HBEP\",\"46\":\"HBEP\",\"47\":\"HBEP\",\"48\":\"HBEP\",\"49\":\"HBEP\",\"50\":\"HBEP\",\"51\":\"HBEP\",\"52\":\"HBEP\",\"53\":\"HBEP\",\"54\":\"HBEP\",\"55\":\"HBEP\",\"56\":\"HBO\",\"57\":\"HBO\",\"58\":\"HBO\",\"59\":\"HBO\",\"60\":\"HBO\",\"61\":\"HBO\",\"62\":\"HBO\",\"63\":\"HBO\",\"64\":\"HBO\",\"65\":\"HBO\",\"66\":\"HBO\",\"67\":\"HBO\",\"68\":\"HBO\",\"69\":\"HBO\",\"70\":\"HBES,T\",\"71\":\"HBES,T\",\"72\":\"HBES,T\",\"73\":\"HBES,T\",\"74\":\"HBES,T\",\"75\":\"HBES,T\",\"76\":\"HBES,T\",\"77\":\"HBES,T\",\"78\":\"HBES,T\",\"79\":\"HBES,T\",\"80\":\"HBES,T\",\"81\":\"HBES,T\",\"82\":\"HBES,T\",\"83\":\"HBES,T\",\"84\":\"NHBO,S\",\"85\":\"NHBO,S\",\"86\":\"NHBO,S\",\"87\":\"NHBO,S\",\"88\":\"NHBO,S\",\"89\":\"NHBO,S\",\"90\":\"NHBO,S\",\"91\":\"NHBO,S\",\"92\":\"NHBO,S\",\"93\":\"NHBO,S\",\"94\":\"NHBO,S\",\"95\":\"NHBO,S\",\"96\":\"NHBO,S\",\"97\":\"NHBO,S\"},\"Parameters\":{\"0\":\"Car_GC_24hr\",\"1\":\"Car_GC_24hr\",\"2\":\"PT_GC_24hr\",\"3\":\"Walk_GC\",\"4\":\"Cycle_Time\",\"5\":\"Car Captive (%)\",\"6\":\"Car Captive (%)\",\"7\":\"Car Captive (%)\",\"8\":\"Car Captive (%)\",\"9\":\"Car_Competition (%)\",\"10\":\"Constants\",\"11\":\"Constants\",\"12\":\"Constants\",\"13\":\"Constants\",\"14\":\"Car_GC_24hr\",\"15\":\"Car_GC_24hr\",\"16\":\"PT_GC_24hr\",\"17\":\"Walk_GC\",\"18\":\"Cycle_Time\",\"19\":\"Car Captive (%)\",\"20\":\"Car Captive (%)\",\"21\":\"Car Captive (%)\",\"22\":\"Car Captive (%)\",\"23\":\"Car_Competition (%)\",\"24\":\"Constants\",\"25\":\"Constants\",\"26\":\"Constants\",\"27\":\"Constants\",\"28\":\"Car_GC_24hr\",\"29\":\"Car_GC_24hr\",\"30\":\"PT_GC_24hr\",\"31\":\"Walk_GC\",\"32\":\"Cycle_Time\",\"33\":\"Car Captive (%)\",\"34\":\"Car Captive (%)\",\"35\":\"Car Captive (%)\",\"36\":\"Car Captive (%)\",\"37\":\"Car_Competition (%)\",\"38\":\"Constants\",\"39\":\"Constants\",\"40\":\"Constants\",\"41\":\"Constants\",\"42\":\"Car_GC_24hr\",\"43\":\"Car_GC_24hr\",\"44\":\"PT_GC_24hr\",\"45\":\"Walk_GC\",\"46\":\"Cycle_Time\",\"47\":\"Car Captive (%)\",\"48\":\"Car Captive (%)\",\"49\":\"Car Captive (%)\",\"50\":\"Car Captive (%)\",\"51\":\"Car_Competition (%)\",\"52\":\"Constants\",\"53\":\"Constants\",\"54\":\"Constants\",\"55\":\"Constants\",\"56\":\"Car_GC_24hr\",\"57\":\"Car_GC_24hr\",\"58\":\"PT_GC_24hr\",\"59\":\"Walk_GC\",\"60\":\"Cycle_Time\",\"61\":\"Car Captive (%)\",\"62\":\"Car Captive (%)\",\"63\":\"Car Captive (%)\",\"64\":\"Car Captive (%)\",\"65\":\"Car_Competition (%)\",\"66\":\"Constants\",\"67\":\"Constants\",\"68\":\"Constants\",\"69\":\"Constants\",\"70\":\"Car_GC_24hr\",\"71\":\"Car_GC_24hr\",\"72\":\"PT_GC_24hr\",\"73\":\"Walk_GC\",\"74\":\"Cycle_Time\",\"75\":\"Car Captive (%)\",\"76\":\"Car Captive (%)\",\"77\":\"Car Captive (%)\",\"78\":\"Car Captive (%)\",\"79\":\"Car_Competition (%)\",\"80\":\"Constants\",\"81\":\"Constants\",\"82\":\"Constants\",\"83\":\"Constants\",\"84\":\"Car_GC_24hr\",\"85\":\"Car_GC_24hr\",\"86\":\"PT_GC_24hr\",\"87\":\"Walk_GC\",\"88\":\"Cycle_Time\",\"89\":\"Car Captive (%)\",\"90\":\"Car Captive (%)\",\"91\":\"Car Captive (%)\",\"92\":\"Car Captive (%)\",\"93\":\"Car_Competition (%)\",\"94\":\"Constants\",\"95\":\"Constants\",\"96\":\"Constants\",\"97\":\"Constants\"},\"mode\":{\"0\":\"Car as Driver\",\"1\":\"Car as Passenger\",\"2\":\"Walk to PT\",\"3\":\"Walk\",\"4\":\"Cycle\",\"5\":\"Car as Passenger\",\"6\":\"Walk to PT\",\"7\":\"Walk\",\"8\":\"Cycle\",\"9\":\"Car as Passenger\",\"10\":\"Car as Passenger\",\"11\":\"Walk to PT\",\"12\":\"Walk\",\"13\":\"Cycle\",\"14\":\"Car as Driver\",\"15\":\"Car as Passenger\",\"16\":\"Walk to PT\",\"17\":\"Walk\",\"18\":\"Cycle\",\"19\":\"Car as Passenger\",\"20\":\"Walk to PT\",\"21\":\"Walk\",\"22\":\"Cycle\",\"23\":\"Car as Passenger\",\"24\":\"Car as Passenger\",\"25\":\"Walk to PT\",\"26\":\"Walk\",\"27\":\"Cycle\",\"28\":\"Car as Driver\",\"29\":\"Car as Passenger\",\"30\":\"Walk to PT\",\"31\":\"Walk\",\"32\":\"Cycle\",\"33\":\"Car as Passenger\",\"34\":\"Walk to PT\",\"35\":\"Walk\",\"36\":\"Cycle\",\"37\":\"Car as Passenger\",\"38\":\"Car as Passenger\",\"39\":\"Walk to PT\",\"40\":\"Walk\",\"41\":\"Cycle\",\"42\":\"Car as Driver\",\"43\":\"Car as Passenger\",\"44\":\"Walk to PT\",\"45\":\"Walk\",\"46\":\"Cycle\",\"47\":\"Car as Passenger\",\"48\":\"Walk to PT\",\"49\":\"Walk\",\"50\":\"Cycle\",\"51\":\"Car as Passenger\",\"52\":\"Car as Passenger\",\"53\":\"Walk to PT\",\"54\":\"Walk\",\"55\":\"Cycle\",\"56\":\"Car as Driver\",\"57\":\"Car as Passenger\",\"58\":\"Walk to PT\",\"59\":\"Walk\",\"60\":\"Cycle\",\"61\":\"Car as Passenger\",\"62\":\"Walk to PT\",\"63\":\"Walk\",\"64\":\"Cycle\",\"65\":\"Car as Passenger\",\"66\":\"Car as Passenger\",\"67\":\"Walk to PT\",\"68\":\"Walk\",\"69\":\"Cycle\",\"70\":\"Car as Driver\",\"71\":\"Car as Passenger\",\"72\":\"Walk to PT\",\"73\":\"Walk\",\"74\":\"Cycle\",\"75\":\"Car as Passenger\",\"76\":\"Walk to PT\",\"77\":\"Walk\",\"78\":\"Cycle\",\"79\":\"Car as Passenger\",\"80\":\"Car as Passenger\",\"81\":\"Walk to PT\",\"82\":\"Walk\",\"83\":\"Cycle\",\"84\":\"Car as Driver\",\"85\":\"Car as Passenger\",\"86\":\"Walk to PT\",\"87\":\"Walk\",\"88\":\"Cycle\",\"89\":\"Car as Passenger\",\"90\":\"Walk to PT\",\"91\":\"Walk\",\"92\":\"Cycle\",\"93\":\"Car as Passenger\",\"94\":\"Car as Passenger\",\"95\":\"Walk to PT\",\"96\":\"Walk\",\"97\":\"Cycle\"},\"value\":{\"0\":-0.055,\"1\":-0.055,\"2\":-0.055,\"3\":-0.055,\"4\":-0.055,\"5\":4.7,\"6\":5.7,\"7\":3.3,\"8\":3.5,\"9\":0.1,\"10\":-3.5,\"11\":-2.8,\"12\":-1.5,\"13\":-4.9,\"14\":-0.055,\"15\":-0.055,\"16\":-0.055,\"17\":-0.055,\"18\":-0.055,\"19\":4.7,\"20\":5.7,\"21\":3.3,\"22\":3.5,\"23\":0.1,\"24\":-1.9,\"25\":-2.8,\"26\":-1.5,\"27\":-5.5,\"28\":-0.055,\"29\":-0.055,\"30\":-0.055,\"31\":-0.055,\"32\":-0.055,\"33\":4.7,\"34\":5.7,\"35\":3.3,\"36\":3.5,\"37\":0.1,\"38\":-3.1,\"39\":-2.8,\"40\":-0.7,\"41\":-6.3,\"42\":-0.034,\"43\":-0.034,\"44\":-0.034,\"45\":-0.034,\"46\":-0.034,\"47\":4.7,\"48\":5.7,\"49\":3.3,\"50\":3.5,\"51\":0.1,\"52\":-2.2,\"53\":-3.7,\"54\":-1.5,\"55\":-4.9,\"56\":-0.055,\"57\":-0.055,\"58\":-0.055,\"59\":-0.055,\"60\":-0.055,\"61\":4.7,\"62\":5.7,\"63\":3.3,\"64\":3.5,\"65\":0.1,\"66\":-1.6,\"67\":-2.8,\"68\":0.0,\"69\":-4.2,\"70\":-0.009,\"71\":-0.009,\"72\":-0.009,\"73\":-0.009,\"74\":-0.009,\"75\":4.7,\"76\":5.7,\"77\":3.3,\"78\":3.5,\"79\":0.1,\"80\":-2.7,\"81\":-2.8,\"82\":-2.2,\"83\":-4.9,\"84\":-0.055,\"85\":-0.055,\"86\":-0.055,\"87\":-0.055,\"88\":-0.055,\"89\":4.7,\"90\":5.7,\"91\":3.3,\"92\":3.5,\"93\":0.1,\"94\":-1.9,\"95\":-2.8,\"96\":-0.1,\"97\":-4.9}}'))\n",
    "\n",
    "def get_GC(distance=10.,congestion_factor=0.6,parking_cost=5,SMEC_CarGC_Fudge = 0.8,PTTT=1.,       isin_congestion=True,fare=3,Access_egress_time=3,Headway=30,No_Transfers=1,SMEC_PTGC_Fudge = 0.9,):\n",
    "    carTT = congestion_factor * distance # congestion factor is distance(km)/congested travel time(mins) \n",
    "    op_costs = distance * (15.6/(34*1.65))\n",
    "    #Car_GC = (Car_tCur + Car_Dist * (VOC/(VOT*VEHOCC))) * 0.8 + Park_Cost / (2*VOT*VEHOCC) \n",
    "    Car_GC_24hr = (SMEC_CarGC_Fudge*(carTT + op_costs)) + (parking_cost*100 /(2*34*1.65))\n",
    "    walkTT = distance/5*60\n",
    "    cycleTT = distance/20*60\n",
    "    if isin_congestion:\n",
    "        IVT = PTTT * carTT \n",
    "    else:\n",
    "        IVT = PTTT * 0.8 * distance \n",
    "    PJT = IVT + (1.53 * 2*Access_egress_time) + (1.43 * (Headway/2)) + (13.6*No_Transfers)\n",
    "    PT_GC_24hr = (PJT +  ((fare * 100)/ 34)) * SMEC_PTGC_Fudge\n",
    "    return Car_GC_24hr,PT_GC_24hr,walkTT,cycleTT\n",
    "\n",
    "\n",
    "def get_GC_plot(distance=10.,congestion_factor=0.6,parking_cost=5,SMEC_CarGC_Fudge = 0.8,PTTT=1.,       isin_congestion=True,fare=3,Access_egress_time=3,Headway=30,No_Transfers=1,SMEC_PTGC_Fudge = 0.9,Pr_Car_Competition=0.3,Pr_No_Car_Available=0.3):\n",
    "    Car_GC_24hr,PT_GC_24hr,walkTT,cycleTT = get_GC(distance,congestion_factor,parking_cost,SMEC_CarGC_Fudge,PTTT, isin_congestion,fare,Access_egress_time,Headway,No_Transfers,SMEC_PTGC_Fudge)\n",
    "    return view_fn_GC(pd.Series({'Car_GC_24hr':Car_GC_24hr,'PT_GC_24hr':PT_GC_24hr,'walkTT':walkTT,'cycleTT':cycleTT}).reset_index().rename(columns={'index':'Generalised_Cost',0:'minutes'}))\n",
    "\n",
    "def get_probs_plot(distance=10.,congestion_factor=0.6,parking_cost=5,SMEC_CarGC_Fudge = 0.8,PTTT=1.,       isin_congestion=True,fare=3,Access_egress_time=3,Headway=30,No_Transfers=1,SMEC_PTGC_Fudge = 0.9,Pr_Car_Competition=0.3,Pr_No_Car_Available=0.3,purpchoice=['HBWW,B','NHBO,S']):\n",
    "    Car_GC_24hr,PT_GC_24hr,walkTT,cycleTT = get_GC(distance,congestion_factor,parking_cost,SMEC_CarGC_Fudge,PTTT, isin_congestion,fare,Access_egress_time,Headway,No_Transfers,SMEC_PTGC_Fudge)\n",
    "    out = {}\n",
    "    for purp, group in mcp[mcp.Purp.isin(purpchoice)].groupby('Purp'):\n",
    "        coeff_map = group.set_index(['Parameters','mode']).value\n",
    "        util_cd = coeff_map['Car_GC_24hr','Car as Driver'] * Car_GC_24hr\n",
    "        util_cp = (coeff_map['Car_GC_24hr','Car as Passenger'] * Car_GC_24hr) + coeff_map['Constants','Car as Passenger'] + (coeff_map['Car Captive (%)','Car as Passenger'] * Pr_No_Car_Available) + (coeff_map['Car_Competition (%)','Car as Passenger'] * Pr_Car_Competition)\n",
    "        util_wtpt = (coeff_map['PT_GC_24hr','Walk to PT'] * PT_GC_24hr) + coeff_map['Constants','Walk to PT'] + (coeff_map['Car Captive (%)','Walk to PT'] * Pr_No_Car_Available) \n",
    "        \n",
    "        util_wlk = (coeff_map['Walk_GC','Walk'] * walkTT) + coeff_map['Constants','Walk'] + (coeff_map['Car Captive (%)','Walk'] * Pr_No_Car_Available)\n",
    "        util_cy = (coeff_map['Cycle_Time','Cycle'] * cycleTT) + coeff_map['Constants','Cycle'] + (coeff_map['Car Captive (%)','Cycle'] * Pr_No_Car_Available)\n",
    "        #explore LRT scenario\n",
    "        #util_wtpt_LRT = (coeff_map['PT_GC_24hr','Walk to PT'] * PT_GC_24hr) + coeff_map['Constants','Walk to PT'] + (coeff_map['Car Captive (%)','Walk to PT'] * Pr_No_Car_Available) + (14/18)\n",
    "        #out[purp] = pd.Series(dict(zip(['Car_Driver','Car_Passenger','Walk_to_PT','Walk','Cycle','LRT'],\n",
    "        #                         softmax([util_cd,util_cp,util_wtpt,util_wlk,util_cy,util_wtpt_LRT]))))\n",
    "        out[purp] = pd.Series(dict(zip(['Car_Driver','Car_Passenger','Walk_to_PT','Walk','Cycle'],\n",
    "        softmax([util_cd,util_cp,util_wtpt,util_wlk,util_cy]))))\n",
    "    out = pd.concat(out).reset_index().rename(columns={'level_0':'purp','level_1':'mode',0:'probability'})\n",
    "    return view_fn(out)\n",
    "\n",
    "def view_fn(probs_df):\n",
    "    fig = Figure(figsize=(18,12))\n",
    "    FigureCanvas(fig)\n",
    "    ax = fig.add_subplot()\n",
    "    ax.set_ylim([0,.9])\n",
    "    sns.barplot(x=\"mode\", hue=\"purp\", y=\"probability\", data=probs_df,ax=ax)\n",
    "    return fig\n",
    "\n",
    "def view_fn_GC(GC_df):\n",
    "    fig = Figure(figsize=(10,16))\n",
    "    FigureCanvas(fig)\n",
    "    ax = fig.add_subplot()\n",
    "    ax.set_ylim([0,200])\n",
    "    sns.barplot(x=\"Generalised_Cost\", y=\"minutes\",color='Blue', data=GC_df,ax=ax)\n",
    "    return fig\n",
    "\n",
    "distance = pn.widgets.FloatSlider(name='distance', start=0, end=90, step=2, value=15)\n",
    "congestion_factor = pn.widgets.FloatSlider(name='congestion_factor', start=0.7, end=1.5, step=0.1, value=0.7)\n",
    "parking_cost = pn.widgets.FloatSlider(name='parking_cost', start=0, end=15, step=0.5, value=0)\n",
    "PTTT=pn.widgets.FloatSlider(name='PT efficiency % of car TT', start=0.5, end=2, step=0.1, value=1)\n",
    "isin_congestion=pn.widgets.Checkbox(name='Is PT in Congestion?')\n",
    "fare= pn.widgets.FloatSlider(name='fare $', start=0, end=15, step=0.5, value=0)\n",
    "Pr_Car_Competition = pn.widgets.FloatSlider(name='proportion car competition', start=0, end=1, step=0.1, value=0.3)\n",
    "Pr_No_Car_Available = pn.widgets.FloatSlider(name='proportion no car available', start=0, end=1, step=0.1, value=0.3)\n",
    "Access_egress_time= pn.widgets.FloatSlider(name='access and egress time', start=0, end=45, step=1, value=5)\n",
    "Headway=pn.widgets.IntSlider(name='Headway', start=5, end=90, step=5, value=30)\n",
    "No_Transfers=pn.widgets.IntSlider(name='Number of Transfers', start=0, end=3, step=1, value=0)\n",
    "SMEC_CarGC_Fudge =pn.widgets.FloatSlider(name='SMEC_CarGC_Fudge', start=0.5, end=2, step=0.1, value=0.8)\n",
    "SMEC_PTGC_Fudge =pn.widgets.FloatSlider(name='SMEC_PTGC_Fudge', start=0.5, end=2, step=0.1, value=0.9)\n",
    "purpchoice = pn.widgets.MultiChoice(name='Select Purposes to display', value=['HBWW,B','NHBO,S'],options=['HBWW,B', 'HBS', 'NHBW', 'HBEP', 'HBO', 'HBES,T', 'NHBO,S'])\n",
    "\n",
    "reactive_probs = pn.bind(get_probs_plot, distance, congestion_factor,parking_cost,SMEC_CarGC_Fudge,PTTT,isin_congestion,fare,Access_egress_time, Headway, No_Transfers,SMEC_PTGC_Fudge, Pr_Car_Competition,Pr_No_Car_Available,purpchoice)\n",
    "\n",
    "widgets   = pn.Column(\"<br>\\n# All Mode Inputs\", distance, \"<br>\\n# Private Mode Inputs\", congestion_factor,parking_cost,SMEC_CarGC_Fudge,\"<br>\\n# PT Mode Inputs\",PTTT,isin_congestion,fare,Access_egress_time, Headway, No_Transfers,SMEC_PTGC_Fudge, \"<br>\\n# Car Availability\", Pr_Car_Competition,Pr_No_Car_Available,width=500)\n",
    "probs = pn.Row(widgets,pn.Column(purpchoice,reactive_probs))\n",
    "probs"
   ]
  },
  {
   "cell_type": "markdown",
   "id": "f84f07cb-63da-412d-bd5e-3226b68c5c8c",
   "metadata": {},
   "source": [
    "# Plot Generalised Costs"
   ]
  },
  {
   "cell_type": "code",
   "execution_count": null,
   "id": "8547cac9-1f36-4a54-b740-66bc8393dfa9",
   "metadata": {},
   "outputs": [],
   "source": [
    "reactive_GC = pn.bind(get_GC_plot, distance, congestion_factor,parking_cost,SMEC_CarGC_Fudge,PTTT,isin_congestion,fare,Access_egress_time, Headway, No_Transfers,SMEC_PTGC_Fudge, Pr_Car_Competition,Pr_No_Car_Available)\n",
    "\n",
    "widgets   = pn.Column(\"<br>\\n# All Mode Inputs\", distance, \"<br>\\n# Private Mode Inputs\", congestion_factor,parking_cost,SMEC_CarGC_Fudge,\"<br>\\n# PT Mode Inputs\",PTTT,isin_congestion,fare,Access_egress_time, Headway, No_Transfers,SMEC_PTGC_Fudge, \"<br>\\n# Car Availability\", Pr_Car_Competition,Pr_No_Car_Available,width=500)\n",
    "GC = pn.Row(widgets,pn.Row(reactive_GC))\n",
    "GC"
   ]
  },
  {
   "cell_type": "code",
   "execution_count": null,
   "id": "f1993bcb",
   "metadata": {},
   "outputs": [],
   "source": []
  }
 ],
 "metadata": {
  "kernelspec": {
   "display_name": "Python 3",
   "language": "python",
   "name": "python3"
  },
  "language_info": {
   "codemirror_mode": {
    "name": "ipython",
    "version": 3
   },
   "file_extension": ".py",
   "mimetype": "text/x-python",
   "name": "python",
   "nbconvert_exporter": "python",
   "pygments_lexer": "ipython3",
   "version": "3.8.10"
  }
 },
 "nbformat": 4,
 "nbformat_minor": 5
}
